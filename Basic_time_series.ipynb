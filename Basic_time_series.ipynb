{
 "cells": [
  {
   "cell_type": "code",
   "execution_count": 102,
   "id": "c4f271cf-041b-47c8-9e17-b9595f7e9215",
   "metadata": {},
   "outputs": [],
   "source": [
    "import pandas as pd"
   ]
  },
  {
   "cell_type": "code",
   "execution_count": 103,
   "id": "2760ff40-7e88-4b72-8f09-883d02af442f",
   "metadata": {},
   "outputs": [],
   "source": [
    "# conversion with parse dates in read_csv\n",
    "\n",
    "transactions = pd.read_csv(r\"C:\\Users\\Zana\\Desktop\\pandas\\retail\\transactions.csv\", parse_dates=[\"date\"])"
   ]
  },
  {
   "cell_type": "code",
   "execution_count": 104,
   "id": "6e9de511-4b82-47de-a33e-c2fd2d07d2df",
   "metadata": {},
   "outputs": [],
   "source": [
    "# conversion with to_datetime\n",
    "transactions[\"date\"] = pd.to_datetime(transactions[\"date\"])"
   ]
  },
  {
   "cell_type": "code",
   "execution_count": 105,
   "id": "cb77cdb2-a9b0-42a8-974f-9723b044d596",
   "metadata": {},
   "outputs": [],
   "source": [
    "# conversion with astype\n",
    "\n",
    "transactions[\"date\"] = transactions[\"date\"].astype(\"datetime64\")"
   ]
  },
  {
   "cell_type": "code",
   "execution_count": 106,
   "id": "aafc3d56-3b86-47e9-8545-60d263b2d2b1",
   "metadata": {},
   "outputs": [
    {
     "name": "stdout",
     "output_type": "stream",
     "text": [
      "<class 'pandas.core.frame.DataFrame'>\n",
      "RangeIndex: 83488 entries, 0 to 83487\n",
      "Data columns (total 3 columns):\n",
      " #   Column        Non-Null Count  Dtype         \n",
      "---  ------        --------------  -----         \n",
      " 0   date          83488 non-null  datetime64[ns]\n",
      " 1   store_nbr     83488 non-null  int64         \n",
      " 2   transactions  83488 non-null  int64         \n",
      "dtypes: datetime64[ns](1), int64(2)\n",
      "memory usage: 1.9 MB\n"
     ]
    }
   ],
   "source": [
    "transactions.info()"
   ]
  },
  {
   "cell_type": "code",
   "execution_count": 107,
   "id": "7c97ce06-c551-4c82-8982-e921ef4446ee",
   "metadata": {},
   "outputs": [
    {
     "data": {
      "text/html": [
       "<div>\n",
       "<style scoped>\n",
       "    .dataframe tbody tr th:only-of-type {\n",
       "        vertical-align: middle;\n",
       "    }\n",
       "\n",
       "    .dataframe tbody tr th {\n",
       "        vertical-align: top;\n",
       "    }\n",
       "\n",
       "    .dataframe thead th {\n",
       "        text-align: right;\n",
       "    }\n",
       "</style>\n",
       "<table border=\"1\" class=\"dataframe\">\n",
       "  <thead>\n",
       "    <tr style=\"text-align: right;\">\n",
       "      <th></th>\n",
       "      <th>date</th>\n",
       "      <th>store_nbr</th>\n",
       "      <th>transactions</th>\n",
       "    </tr>\n",
       "  </thead>\n",
       "  <tbody>\n",
       "    <tr>\n",
       "      <th>0</th>\n",
       "      <td>2013-01-01</td>\n",
       "      <td>25</td>\n",
       "      <td>770</td>\n",
       "    </tr>\n",
       "    <tr>\n",
       "      <th>1</th>\n",
       "      <td>2013-01-02</td>\n",
       "      <td>1</td>\n",
       "      <td>2111</td>\n",
       "    </tr>\n",
       "    <tr>\n",
       "      <th>2</th>\n",
       "      <td>2013-01-02</td>\n",
       "      <td>2</td>\n",
       "      <td>2358</td>\n",
       "    </tr>\n",
       "    <tr>\n",
       "      <th>3</th>\n",
       "      <td>2013-01-02</td>\n",
       "      <td>3</td>\n",
       "      <td>3487</td>\n",
       "    </tr>\n",
       "    <tr>\n",
       "      <th>4</th>\n",
       "      <td>2013-01-02</td>\n",
       "      <td>4</td>\n",
       "      <td>1922</td>\n",
       "    </tr>\n",
       "  </tbody>\n",
       "</table>\n",
       "</div>"
      ],
      "text/plain": [
       "        date  store_nbr  transactions\n",
       "0 2013-01-01         25           770\n",
       "1 2013-01-02          1          2111\n",
       "2 2013-01-02          2          2358\n",
       "3 2013-01-02          3          3487\n",
       "4 2013-01-02          4          1922"
      ]
     },
     "execution_count": 107,
     "metadata": {},
     "output_type": "execute_result"
    }
   ],
   "source": [
    "transactions.head()"
   ]
  },
  {
   "cell_type": "code",
   "execution_count": 108,
   "id": "71f26517-b11e-4233-b69d-908c021725c4",
   "metadata": {},
   "outputs": [
    {
     "data": {
      "text/plain": [
       "Timestamp('2017-08-15 00:00:00')"
      ]
     },
     "execution_count": 108,
     "metadata": {},
     "output_type": "execute_result"
    }
   ],
   "source": [
    "# Calcualte the maximum datetime\n",
    "transactions[\"date\"].max()"
   ]
  },
  {
   "cell_type": "code",
   "execution_count": 109,
   "id": "8df29f36-0ce7-4dc8-ad38-efb3b4a60b39",
   "metadata": {},
   "outputs": [
    {
     "data": {
      "text/html": [
       "<div>\n",
       "<style scoped>\n",
       "    .dataframe tbody tr th:only-of-type {\n",
       "        vertical-align: middle;\n",
       "    }\n",
       "\n",
       "    .dataframe tbody tr th {\n",
       "        vertical-align: top;\n",
       "    }\n",
       "\n",
       "    .dataframe thead th {\n",
       "        text-align: right;\n",
       "    }\n",
       "</style>\n",
       "<table border=\"1\" class=\"dataframe\">\n",
       "  <thead>\n",
       "    <tr style=\"text-align: right;\">\n",
       "      <th></th>\n",
       "      <th>date</th>\n",
       "      <th>store_nbr</th>\n",
       "      <th>transactions</th>\n",
       "      <th>time_to_last_date</th>\n",
       "      <th>year</th>\n",
       "      <th>month</th>\n",
       "      <th>day_of_week</th>\n",
       "    </tr>\n",
       "  </thead>\n",
       "  <tbody>\n",
       "    <tr>\n",
       "      <th>0</th>\n",
       "      <td>2013-January-01</td>\n",
       "      <td>25</td>\n",
       "      <td>770</td>\n",
       "      <td>1687 days</td>\n",
       "      <td>2013</td>\n",
       "      <td>1</td>\n",
       "      <td>1</td>\n",
       "    </tr>\n",
       "    <tr>\n",
       "      <th>1</th>\n",
       "      <td>2013-January-02</td>\n",
       "      <td>1</td>\n",
       "      <td>2111</td>\n",
       "      <td>1686 days</td>\n",
       "      <td>2013</td>\n",
       "      <td>1</td>\n",
       "      <td>2</td>\n",
       "    </tr>\n",
       "    <tr>\n",
       "      <th>2</th>\n",
       "      <td>2013-January-02</td>\n",
       "      <td>2</td>\n",
       "      <td>2358</td>\n",
       "      <td>1686 days</td>\n",
       "      <td>2013</td>\n",
       "      <td>1</td>\n",
       "      <td>2</td>\n",
       "    </tr>\n",
       "    <tr>\n",
       "      <th>3</th>\n",
       "      <td>2013-January-02</td>\n",
       "      <td>3</td>\n",
       "      <td>3487</td>\n",
       "      <td>1686 days</td>\n",
       "      <td>2013</td>\n",
       "      <td>1</td>\n",
       "      <td>2</td>\n",
       "    </tr>\n",
       "    <tr>\n",
       "      <th>4</th>\n",
       "      <td>2013-January-02</td>\n",
       "      <td>4</td>\n",
       "      <td>1922</td>\n",
       "      <td>1686 days</td>\n",
       "      <td>2013</td>\n",
       "      <td>1</td>\n",
       "      <td>2</td>\n",
       "    </tr>\n",
       "  </tbody>\n",
       "</table>\n",
       "</div>"
      ],
      "text/plain": [
       "              date  store_nbr  transactions time_to_last_date  year  month  \\\n",
       "0  2013-January-01         25           770         1687 days  2013      1   \n",
       "1  2013-January-02          1          2111         1686 days  2013      1   \n",
       "2  2013-January-02          2          2358         1686 days  2013      1   \n",
       "3  2013-January-02          3          3487         1686 days  2013      1   \n",
       "4  2013-January-02          4          1922         1686 days  2013      1   \n",
       "\n",
       "   day_of_week  \n",
       "0            1  \n",
       "1            2  \n",
       "2            2  \n",
       "3            2  \n",
       "4            2  "
      ]
     },
     "execution_count": 109,
     "metadata": {},
     "output_type": "execute_result"
    }
   ],
   "source": [
    "# Difference between date and max date\n",
    "transactions[\"time_to_last_date\"] = transactions[\"date\"].max() - transactions[\"date\"]\n",
    "\n",
    "# Dateparts\n",
    "transactions[\"year\"] = transactions[\"date\"].dt.year\n",
    "transactions[\"month\"] = transactions[\"date\"].dt.month\n",
    "transactions[\"day_of_week\"] = transactions[\"date\"].dt.weekday\n",
    "\n",
    "# Format Date\n",
    "transactions[\"date\"] = transactions[\"date\"].dt.strftime(\"%Y-%B-%d\")\n",
    "\n",
    "transactions.head()"
   ]
  },
  {
   "cell_type": "code",
   "execution_count": 110,
   "id": "60f9691e-3700-49aa-8da5-e3f3fbdb422b",
   "metadata": {},
   "outputs": [],
   "source": [
    "# overwrite previous transactions df\n",
    "\n",
    "transactions = pd.read_csv(r\"C:\\Users\\Zana\\Desktop\\pandas\\retail\\transactions.csv\", parse_dates=[\"date\"])"
   ]
  },
  {
   "cell_type": "code",
   "execution_count": 111,
   "id": "92590b67-250f-471f-8911-ff4efc69da27",
   "metadata": {},
   "outputs": [
    {
     "data": {
      "text/html": [
       "<div>\n",
       "<style scoped>\n",
       "    .dataframe tbody tr th:only-of-type {\n",
       "        vertical-align: middle;\n",
       "    }\n",
       "\n",
       "    .dataframe tbody tr th {\n",
       "        vertical-align: top;\n",
       "    }\n",
       "\n",
       "    .dataframe thead th {\n",
       "        text-align: right;\n",
       "    }\n",
       "</style>\n",
       "<table border=\"1\" class=\"dataframe\">\n",
       "  <thead>\n",
       "    <tr style=\"text-align: right;\">\n",
       "      <th></th>\n",
       "      <th>date</th>\n",
       "      <th>store_nbr</th>\n",
       "      <th>transactions</th>\n",
       "    </tr>\n",
       "  </thead>\n",
       "  <tbody>\n",
       "    <tr>\n",
       "      <th>83483</th>\n",
       "      <td>2017-08-15</td>\n",
       "      <td>50</td>\n",
       "      <td>2804</td>\n",
       "    </tr>\n",
       "    <tr>\n",
       "      <th>83484</th>\n",
       "      <td>2017-08-15</td>\n",
       "      <td>51</td>\n",
       "      <td>1573</td>\n",
       "    </tr>\n",
       "    <tr>\n",
       "      <th>83485</th>\n",
       "      <td>2017-08-15</td>\n",
       "      <td>52</td>\n",
       "      <td>2255</td>\n",
       "    </tr>\n",
       "    <tr>\n",
       "      <th>83486</th>\n",
       "      <td>2017-08-15</td>\n",
       "      <td>53</td>\n",
       "      <td>932</td>\n",
       "    </tr>\n",
       "    <tr>\n",
       "      <th>83487</th>\n",
       "      <td>2017-08-15</td>\n",
       "      <td>54</td>\n",
       "      <td>802</td>\n",
       "    </tr>\n",
       "  </tbody>\n",
       "</table>\n",
       "</div>"
      ],
      "text/plain": [
       "            date  store_nbr  transactions\n",
       "83483 2017-08-15         50          2804\n",
       "83484 2017-08-15         51          1573\n",
       "83485 2017-08-15         52          2255\n",
       "83486 2017-08-15         53           932\n",
       "83487 2017-08-15         54           802"
      ]
     },
     "execution_count": 111,
     "metadata": {},
     "output_type": "execute_result"
    }
   ],
   "source": [
    "transactions.tail()"
   ]
  },
  {
   "cell_type": "code",
   "execution_count": 112,
   "id": "885455cd-8943-452d-957c-a378b18d8510",
   "metadata": {},
   "outputs": [
    {
     "data": {
      "text/html": [
       "<div>\n",
       "<style scoped>\n",
       "    .dataframe tbody tr th:only-of-type {\n",
       "        vertical-align: middle;\n",
       "    }\n",
       "\n",
       "    .dataframe tbody tr th {\n",
       "        vertical-align: top;\n",
       "    }\n",
       "\n",
       "    .dataframe thead th {\n",
       "        text-align: right;\n",
       "    }\n",
       "</style>\n",
       "<table border=\"1\" class=\"dataframe\">\n",
       "  <thead>\n",
       "    <tr style=\"text-align: right;\">\n",
       "      <th></th>\n",
       "      <th>date</th>\n",
       "      <th>store_nbr</th>\n",
       "      <th>transactions</th>\n",
       "      <th>year</th>\n",
       "      <th>month</th>\n",
       "      <th>day_of_week</th>\n",
       "      <th>time_to_last_date</th>\n",
       "    </tr>\n",
       "  </thead>\n",
       "  <tbody>\n",
       "    <tr>\n",
       "      <th>0</th>\n",
       "      <td>2013-01-01</td>\n",
       "      <td>25</td>\n",
       "      <td>770</td>\n",
       "      <td>2013</td>\n",
       "      <td>1</td>\n",
       "      <td>1</td>\n",
       "      <td>1687 days</td>\n",
       "    </tr>\n",
       "    <tr>\n",
       "      <th>1</th>\n",
       "      <td>2013-01-02</td>\n",
       "      <td>1</td>\n",
       "      <td>2111</td>\n",
       "      <td>2013</td>\n",
       "      <td>1</td>\n",
       "      <td>2</td>\n",
       "      <td>1686 days</td>\n",
       "    </tr>\n",
       "    <tr>\n",
       "      <th>2</th>\n",
       "      <td>2013-01-02</td>\n",
       "      <td>2</td>\n",
       "      <td>2358</td>\n",
       "      <td>2013</td>\n",
       "      <td>1</td>\n",
       "      <td>2</td>\n",
       "      <td>1686 days</td>\n",
       "    </tr>\n",
       "    <tr>\n",
       "      <th>3</th>\n",
       "      <td>2013-01-02</td>\n",
       "      <td>3</td>\n",
       "      <td>3487</td>\n",
       "      <td>2013</td>\n",
       "      <td>1</td>\n",
       "      <td>2</td>\n",
       "      <td>1686 days</td>\n",
       "    </tr>\n",
       "    <tr>\n",
       "      <th>4</th>\n",
       "      <td>2013-01-02</td>\n",
       "      <td>4</td>\n",
       "      <td>1922</td>\n",
       "      <td>2013</td>\n",
       "      <td>1</td>\n",
       "      <td>2</td>\n",
       "      <td>1686 days</td>\n",
       "    </tr>\n",
       "  </tbody>\n",
       "</table>\n",
       "</div>"
      ],
      "text/plain": [
       "        date  store_nbr  transactions  year  month  day_of_week  \\\n",
       "0 2013-01-01         25           770  2013      1            1   \n",
       "1 2013-01-02          1          2111  2013      1            2   \n",
       "2 2013-01-02          2          2358  2013      1            2   \n",
       "3 2013-01-02          3          3487  2013      1            2   \n",
       "4 2013-01-02          4          1922  2013      1            2   \n",
       "\n",
       "  time_to_last_date  \n",
       "0         1687 days  \n",
       "1         1686 days  \n",
       "2         1686 days  \n",
       "3         1686 days  \n",
       "4         1686 days  "
      ]
     },
     "execution_count": 112,
     "metadata": {},
     "output_type": "execute_result"
    }
   ],
   "source": [
    "# recreate columns from assignment 1 using assign\n",
    "\n",
    "transactions = transactions.assign(\n",
    "    year=transactions[\"date\"].dt.year,\n",
    "    month=transactions[\"date\"].dt.month,\n",
    "    day_of_week=transactions[\"date\"].dt.dayofweek,\n",
    "    time_to_last_date=transactions[\"date\"].max() - transactions[\"date\"],\n",
    ")\n",
    "\n",
    "transactions.head()"
   ]
  },
  {
   "cell_type": "code",
   "execution_count": 113,
   "id": "47c4200c-f958-41db-a3dc-8f4b7a60a4b7",
   "metadata": {},
   "outputs": [
    {
     "data": {
      "text/html": [
       "<div>\n",
       "<style scoped>\n",
       "    .dataframe tbody tr th:only-of-type {\n",
       "        vertical-align: middle;\n",
       "    }\n",
       "\n",
       "    .dataframe tbody tr th {\n",
       "        vertical-align: top;\n",
       "    }\n",
       "\n",
       "    .dataframe thead th {\n",
       "        text-align: right;\n",
       "    }\n",
       "</style>\n",
       "<table border=\"1\" class=\"dataframe\">\n",
       "  <thead>\n",
       "    <tr style=\"text-align: right;\">\n",
       "      <th></th>\n",
       "      <th>date</th>\n",
       "      <th>store_nbr</th>\n",
       "      <th>transactions</th>\n",
       "      <th>year</th>\n",
       "      <th>month</th>\n",
       "      <th>day_of_week</th>\n",
       "      <th>time_to_last_date</th>\n",
       "      <th>weeks_to_last_date</th>\n",
       "    </tr>\n",
       "  </thead>\n",
       "  <tbody>\n",
       "    <tr>\n",
       "      <th>0</th>\n",
       "      <td>2013-01-01</td>\n",
       "      <td>25</td>\n",
       "      <td>770</td>\n",
       "      <td>2013</td>\n",
       "      <td>1</td>\n",
       "      <td>1</td>\n",
       "      <td>1708 days</td>\n",
       "      <td>244.000000</td>\n",
       "    </tr>\n",
       "    <tr>\n",
       "      <th>1</th>\n",
       "      <td>2013-01-02</td>\n",
       "      <td>1</td>\n",
       "      <td>2111</td>\n",
       "      <td>2013</td>\n",
       "      <td>1</td>\n",
       "      <td>2</td>\n",
       "      <td>1707 days</td>\n",
       "      <td>243.857143</td>\n",
       "    </tr>\n",
       "    <tr>\n",
       "      <th>2</th>\n",
       "      <td>2013-01-02</td>\n",
       "      <td>2</td>\n",
       "      <td>2358</td>\n",
       "      <td>2013</td>\n",
       "      <td>1</td>\n",
       "      <td>2</td>\n",
       "      <td>1707 days</td>\n",
       "      <td>243.857143</td>\n",
       "    </tr>\n",
       "    <tr>\n",
       "      <th>3</th>\n",
       "      <td>2013-01-02</td>\n",
       "      <td>3</td>\n",
       "      <td>3487</td>\n",
       "      <td>2013</td>\n",
       "      <td>1</td>\n",
       "      <td>2</td>\n",
       "      <td>1707 days</td>\n",
       "      <td>243.857143</td>\n",
       "    </tr>\n",
       "    <tr>\n",
       "      <th>4</th>\n",
       "      <td>2013-01-02</td>\n",
       "      <td>4</td>\n",
       "      <td>1922</td>\n",
       "      <td>2013</td>\n",
       "      <td>1</td>\n",
       "      <td>2</td>\n",
       "      <td>1707 days</td>\n",
       "      <td>243.857143</td>\n",
       "    </tr>\n",
       "  </tbody>\n",
       "</table>\n",
       "</div>"
      ],
      "text/plain": [
       "        date  store_nbr  transactions  year  month  day_of_week  \\\n",
       "0 2013-01-01         25           770  2013      1            1   \n",
       "1 2013-01-02          1          2111  2013      1            2   \n",
       "2 2013-01-02          2          2358  2013      1            2   \n",
       "3 2013-01-02          3          3487  2013      1            2   \n",
       "4 2013-01-02          4          1922  2013      1            2   \n",
       "\n",
       "  time_to_last_date  weeks_to_last_date  \n",
       "0         1708 days          244.000000  \n",
       "1         1707 days          243.857143  \n",
       "2         1707 days          243.857143  \n",
       "3         1707 days          243.857143  \n",
       "4         1707 days          243.857143  "
      ]
     },
     "execution_count": 113,
     "metadata": {},
     "output_type": "execute_result"
    }
   ],
   "source": [
    "# Add three weeks to time to last date column\n",
    "# Then divide the timedelta (converted to integer) into integer weeks\n",
    "\n",
    "transactions.assign(\n",
    "    time_to_last_date=pd.to_timedelta(21, unit=\"D\") + transactions[\"time_to_last_date\"],\n",
    "    weeks_to_last_date=(lambda x: x[\"time_to_last_date\"].dt.days / 7),\n",
    ").head()"
   ]
  },
  {
   "cell_type": "code",
   "execution_count": 115,
   "id": "72bb2984-aa71-4154-86d3-f0226c43e8be",
   "metadata": {},
   "outputs": [],
   "source": [
    "# Read in oil csv with date as index (and converted to datetime64)\n",
    "oil = pd.read_csv(r\"C:\\Users\\Zana\\Desktop\\pandas\\retail\\oil.csv\", \n",
    "                  index_col=\"date\", \n",
    "                  parse_dates=True)"
   ]
  },
  {
   "cell_type": "code",
   "execution_count": 116,
   "id": "0c81fbec-6ff5-4e03-8663-b97004eb264c",
   "metadata": {},
   "outputs": [
    {
     "data": {
      "text/plain": [
       "dtype('<M8[ns]')"
      ]
     },
     "execution_count": 116,
     "metadata": {},
     "output_type": "execute_result"
    }
   ],
   "source": [
    "# This is a synonym for datetime64\n",
    "\n",
    "oil.index.dtype"
   ]
  },
  {
   "cell_type": "code",
   "execution_count": 117,
   "id": "e87b7f5f-7214-4890-8f91-c35090295f2c",
   "metadata": {},
   "outputs": [
    {
     "data": {
      "text/plain": [
       "dcoilwtico    67.714366\n",
       "dtype: float64"
      ]
     },
     "execution_count": 117,
     "metadata": {},
     "output_type": "execute_result"
    }
   ],
   "source": [
    "# mean of original series\n",
    "\n",
    "oil.mean()"
   ]
  },
  {
   "cell_type": "code",
   "execution_count": 118,
   "id": "56d40538-abad-4a81-9b26-e16557364b55",
   "metadata": {},
   "outputs": [
    {
     "data": {
      "text/plain": [
       "<AxesSubplot:xlabel='date'>"
      ]
     },
     "execution_count": 118,
     "metadata": {},
     "output_type": "execute_result"
    },
    {
     "data": {
      "image/png": "[encoded data removed]",
      "text/plain": [
       "<Figure size 432x288 with 1 Axes>"
      ]
     },
     "metadata": {},
     "output_type": "display_data"
    }
   ],
   "source": [
    "# original plot\n",
    "\n",
    "oil.plot()"
   ]
  },
  {
   "cell_type": "code",
   "execution_count": 119,
   "id": "d55d5bca-c705-42af-a2e8-fa35c336b57a",
   "metadata": {},
   "outputs": [
    {
     "name": "stdout",
     "output_type": "stream",
     "text": [
      "dcoilwtico    67.671249\n",
      "dtype: float64 dcoilwtico    67.673325\n",
      "dtype: float64 dcoilwtico    67.661824\n",
      "dtype: float64\n"
     ]
    }
   ],
   "source": [
    "# mean of each type of missing value handling for time series\n",
    "\n",
    "print(oil.ffill().mean(), \n",
    "      oil.bfill().mean(),\n",
    "      oil.interpolate().mean()\n",
    "     )"
   ]
  },
  {
   "cell_type": "code",
   "execution_count": 120,
   "id": "b44d8c2a-10ef-46f6-b7c5-d641b2c1df1f",
   "metadata": {},
   "outputs": [
    {
     "data": {
      "text/plain": [
       "<AxesSubplot:xlabel='date'>"
      ]
     },
     "execution_count": 120,
     "metadata": {},
     "output_type": "execute_result"
    },
    {
     "data": {
      "image/png": "[encoded data removed]",
      "text/plain": [
       "<Figure size 432x288 with 1 Axes>"
      ]
     },
     "metadata": {},
     "output_type": "display_data"
    }
   ],
   "source": [
    "# Filter to 2014 then plot forward filled Series\n",
    "\n",
    "oil.loc[\"2014\"].ffill().plot()"
   ]
  },
  {
   "cell_type": "code",
   "execution_count": 121,
   "id": "6ffaf47b-b097-4c81-b95f-6311adfe6ff1",
   "metadata": {},
   "outputs": [
    {
     "data": {
      "text/plain": [
       "<AxesSubplot:xlabel='date'>"
      ]
     },
     "execution_count": 121,
     "metadata": {},
     "output_type": "execute_result"
    },
    {
     "data": {
      "image/png": "[encoded data removed]",
      "text/plain": [
       "<Figure size 432x288 with 1 Axes>"
      ]
     },
     "metadata": {},
     "output_type": "display_data"
    }
   ],
   "source": [
    "# Filter to December 2014 then plot forward filled Series\n",
    "\n",
    "oil.loc[\"2014-12\"].ffill().plot()"
   ]
  },
  {
   "cell_type": "code",
   "execution_count": 122,
   "id": "afc8cf20-f314-4cae-8e48-25e5847692ae",
   "metadata": {},
   "outputs": [
    {
     "data": {
      "text/plain": [
       "<AxesSubplot:xlabel='date'>"
      ]
     },
     "execution_count": 122,
     "metadata": {},
     "output_type": "execute_result"
    },
    {
     "data": {
      "image/png": "[encoded data removed]",
      "text/plain": [
       "<Figure size 432x288 with 1 Axes>"
      ]
     },
     "metadata": {},
     "output_type": "display_data"
    }
   ],
   "source": [
    "# Filter to first two weeks of December 2014 then plot forward filled Series\n",
    "\n",
    "oil.loc[\"2014-12-01\":\"2014-12-15\"].ffill().plot()"
   ]
  },
  {
   "cell_type": "code",
   "execution_count": 123,
   "id": "48f0d85b-9bd1-43d1-9bdc-9960b6714f0e",
   "metadata": {},
   "outputs": [
    {
     "data": {
      "image/png": "[encoded data removed]",
      "text/plain": [
       "<Figure size 432x288 with 1 Axes>"
      ]
     },
     "metadata": {},
     "output_type": "display_data"
    }
   ],
   "source": [
    "# filter df to store 47, 'drop' store_nbr column via loc\n",
    "transactions_47 = transactions.loc[transactions[\"store_nbr\"] == 47, [\"date\", \"transactions\"]]\n",
    "\n",
    "# Calculate sum of sales by year and month\n",
    "transactions_47 = (transactions_47\n",
    "                   .groupby([transactions[\"date\"].dt.year, transactions[\"date\"].dt.month])\n",
    "                   .sum())\n",
    "\n",
    "# Calculate a 'year_prior' column by shiftly monthly sales series forward by 12 rows (months)\n",
    "transactions_47[\"year_prior\"] = transactions_47[\"transactions\"].shift(12)\n",
    "\n",
    "# Filter to 2015 and plot\n",
    "transactions_47.loc[2015].plot();"
   ]
  },
  {
   "cell_type": "code",
   "execution_count": 124,
   "id": "103b520b-d795-44c3-8cb3-7ada29557d16",
   "metadata": {},
   "outputs": [
    {
     "data": {
      "text/plain": [
       "<AxesSubplot:xlabel='date'>"
      ]
     },
     "execution_count": 124,
     "metadata": {},
     "output_type": "execute_result"
    },
    {
     "data": {
      "image/png": "[encoded data removed]",
      "text/plain": [
       "<Figure size 432x288 with 1 Axes>"
      ]
     },
     "metadata": {},
     "output_type": "display_data"
    }
   ],
   "source": [
    "# Monthly average oil price\n",
    "\n",
    "oil.resample(\"Y\").mean().plot()"
   ]
  },
  {
   "cell_type": "code",
   "execution_count": null,
   "id": "5439b400-c915-48d0-92b5-0f5f3658ea06",
   "metadata": {},
   "outputs": [],
   "source": []
  }
 ],
 "metadata": {
  "kernelspec": {
   "display_name": "Python 3 (ipykernel)",
   "language": "python",
   "name": "python3"
  },
  "language_info": {
   "codemirror_mode": {
    "name": "ipython",
    "version": 3
   },
   "file_extension": ".py",
   "mimetype": "text/x-python",
   "name": "python",
   "nbconvert_exporter": "python",
   "pygments_lexer": "ipython3",
   "version": "3.9.12"
  }
 },
 "nbformat": 4,
 "nbformat_minor": 5
}
