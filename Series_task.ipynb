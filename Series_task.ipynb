{
 "cells": [
  {
   "cell_type": "code",
   "execution_count": 1,
   "id": "0f648b9b-73a9-4eab-ab73-1b40aa0c0c5e",
   "metadata": {},
   "outputs": [],
   "source": [
    "# Series Basics"
   ]
  },
  {
   "cell_type": "code",
   "execution_count": 3,
   "id": "dc177073-0cb3-43cc-952b-5618c50d57c7",
   "metadata": {},
   "outputs": [],
   "source": [
    "import pandas as pd\n",
    "import numpy as np"
   ]
  },
  {
   "cell_type": "code",
   "execution_count": 4,
   "id": "9146decd-58d4-4f61-9ae2-13fc0641f996",
   "metadata": {},
   "outputs": [
    {
     "data": {
      "text/plain": [
       "array([52.22, 51.44, 51.98, 52.01, 52.82, 54.01, 53.8 , 53.75, 52.36,\n",
       "       53.26, 53.77, 53.98, 51.95, 50.82, 52.19, 53.01, 52.36, 52.45,\n",
       "       51.12, 51.39, 52.33, 52.77, 52.38, 52.14, 53.24, 53.18, 52.63,\n",
       "       52.75, 53.9 , 53.55, 53.81, 53.01, 52.19, 52.37, 52.99, 53.84,\n",
       "       52.96, 53.21, 53.11, 53.41, 53.41, 54.02, 53.61, 54.48, 53.99,\n",
       "       54.04, 54.  , 53.82, 52.63, 53.33, 53.19, 52.68, 49.83, 48.75,\n",
       "       48.05, 47.95, 47.24, 48.34, 48.3 , 48.34, 47.79, 47.02, 47.29,\n",
       "       47.  , 47.3 , 47.02, 48.36, 49.47, 50.3 , 50.54, 50.25, 50.99,\n",
       "       51.14, 51.69, 52.25, 53.06, 53.38, 53.12, 53.19, 52.62, 52.46,\n",
       "       50.49, 50.26, 49.64, 48.9 , 49.22, 49.22, 48.96, 49.31, 48.83,\n",
       "       47.65, 47.79, 45.55, 46.23, 46.46, 45.84, 47.28, 47.81, 47.83,\n",
       "       48.86])"
      ]
     },
     "execution_count": 4,
     "metadata": {},
     "output_type": "execute_result"
    }
   ],
   "source": [
    "# create a DataFrame from the oil file, drop missing values\n",
    "oil = pd.read_csv(r\"C:\\Users\\Zana\\Desktop\\pandas\\retail\\oil.csv\").dropna()\n",
    "\n",
    "# Grab 100 rows of oil prices\n",
    "oil_array = np.array(oil[\"dcoilwtico\"].iloc[1000:1100])\n",
    "\n",
    "oil_array"
   ]
  },
  {
   "cell_type": "code",
   "execution_count": 5,
   "id": "1b9079f3-b5e5-458a-b3bd-cc62070cbe66",
   "metadata": {},
   "outputs": [
    {
     "data": {
      "text/plain": [
       "0     52.22\n",
       "1     51.44\n",
       "2     51.98\n",
       "3     52.01\n",
       "4     52.82\n",
       "      ...  \n",
       "95    45.84\n",
       "96    47.28\n",
       "97    47.81\n",
       "98    47.83\n",
       "99    48.86\n",
       "Name: oil_prices, Length: 100, dtype: float64"
      ]
     },
     "execution_count": 5,
     "metadata": {},
     "output_type": "execute_result"
    }
   ],
   "source": [
    "# convert oil_array to a series\n",
    "\n",
    "oil_series = pd.Series(oil_array, name=\"oil_prices\")\n",
    "              \n",
    "oil_series"
   ]
  },
  {
   "cell_type": "code",
   "execution_count": 6,
   "id": "5c2336f0-2699-46b6-920f-6e4e7bef3c2d",
   "metadata": {},
   "outputs": [
    {
     "name": "stdout",
     "output_type": "stream",
     "text": [
      "Name: oil_prices\n",
      "dtype: float64\n",
      "size: 100\n",
      "index: RangeIndex(start=0, stop=100, step=1)\n"
     ]
    }
   ],
   "source": [
    "print(f\"Name: {oil_series.name}\")\n",
    "print(f\"dtype: {oil_series.dtype}\")\n",
    "print(f\"size: {oil_series.size}\")\n",
    "print(f\"index: {oil_series.index}\")"
   ]
  },
  {
   "cell_type": "code",
   "execution_count": 7,
   "id": "d8a45d32-ae83-43bb-af37-1252d7860a74",
   "metadata": {},
   "outputs": [
    {
     "data": {
      "text/plain": [
       "51.128299999999996"
      ]
     },
     "execution_count": 7,
     "metadata": {},
     "output_type": "execute_result"
    }
   ],
   "source": [
    "oil_series.values.mean()"
   ]
  },
  {
   "cell_type": "code",
   "execution_count": 8,
   "id": "e296a499-6601-47f3-9cca-52d6379f84a7",
   "metadata": {},
   "outputs": [
    {
     "data": {
      "text/plain": [
       "RangeIndex(start=0, stop=100, step=1)"
      ]
     },
     "execution_count": 8,
     "metadata": {},
     "output_type": "execute_result"
    }
   ],
   "source": [
    "oil_series.index"
   ]
  },
  {
   "cell_type": "code",
   "execution_count": 9,
   "id": "e682d802-e50c-4db1-b21d-4b486368d2a2",
   "metadata": {},
   "outputs": [
    {
     "data": {
      "text/plain": [
       "dtype('int64')"
      ]
     },
     "execution_count": 9,
     "metadata": {},
     "output_type": "execute_result"
    }
   ],
   "source": [
    "oil_series.index.dtype"
   ]
  },
  {
   "cell_type": "code",
   "execution_count": 10,
   "id": "82c5e0fe-7674-463a-b9de-08373c53fd0b",
   "metadata": {},
   "outputs": [
    {
     "data": {
      "text/plain": [
       "50.66"
      ]
     },
     "execution_count": 10,
     "metadata": {},
     "output_type": "execute_result"
    }
   ],
   "source": [
    "oil_series.astype(\"int\").values.mean()"
   ]
  },
  {
   "cell_type": "code",
   "execution_count": 11,
   "id": "77857f55-4d3a-4630-9f8c-d733aca420d3",
   "metadata": {},
   "outputs": [],
   "source": [
    "# Accessing Series Data"
   ]
  },
  {
   "cell_type": "code",
   "execution_count": 12,
   "id": "05b393e6-dc1d-468a-9f2f-1b1cddaa625b",
   "metadata": {},
   "outputs": [],
   "source": [
    "dates = pd.Series(oil[\"date\"]).iloc[1000:1100]\n"
   ]
  },
  {
   "cell_type": "code",
   "execution_count": 13,
   "id": "5e056006-4326-48b2-9ab5-b703539a93cb",
   "metadata": {},
   "outputs": [
    {
     "data": {
      "text/plain": [
       "date\n",
       "2016-12-20    52.22\n",
       "2016-12-21    51.44\n",
       "2016-12-22    51.98\n",
       "2016-12-23    52.01\n",
       "2016-12-27    52.82\n",
       "              ...  \n",
       "2017-05-09    45.84\n",
       "2017-05-10    47.28\n",
       "2017-05-11    47.81\n",
       "2017-05-12    47.83\n",
       "2017-05-15    48.86\n",
       "Name: oil_prices, Length: 100, dtype: float64"
      ]
     },
     "execution_count": 13,
     "metadata": {},
     "output_type": "execute_result"
    }
   ],
   "source": [
    "oil_series.index = dates\n",
    "\n",
    "oil_series"
   ]
  },
  {
   "cell_type": "code",
   "execution_count": 14,
   "id": "f0e76013-eba3-4f2f-a6bb-e76526964749",
   "metadata": {},
   "outputs": [
    {
     "data": {
      "text/plain": [
       "date\n",
       "2016-12-20    52.22\n",
       "2016-12-21    51.44\n",
       "2016-12-22    51.98\n",
       "2016-12-23    52.01\n",
       "2016-12-27    52.82\n",
       "2016-12-28    54.01\n",
       "2016-12-29    53.80\n",
       "2016-12-30    53.75\n",
       "2017-01-03    52.36\n",
       "2017-01-04    53.26\n",
       "Name: oil_prices, dtype: float64"
      ]
     },
     "execution_count": 14,
     "metadata": {},
     "output_type": "execute_result"
    }
   ],
   "source": [
    "oil_series.iloc[:10]"
   ]
  },
  {
   "cell_type": "code",
   "execution_count": 15,
   "id": "b134873e-afa3-461b-82ff-0affaa25778d",
   "metadata": {},
   "outputs": [
    {
     "data": {
      "text/plain": [
       "52.765"
      ]
     },
     "execution_count": 15,
     "metadata": {},
     "output_type": "execute_result"
    }
   ],
   "source": [
    "oil_series.iloc[:10].mean()"
   ]
  },
  {
   "cell_type": "code",
   "execution_count": 16,
   "id": "8dd37b78-8342-4e96-857c-04b8b2694186",
   "metadata": {},
   "outputs": [
    {
     "data": {
      "text/plain": [
       "47.129999999999995"
      ]
     },
     "execution_count": 16,
     "metadata": {},
     "output_type": "execute_result"
    }
   ],
   "source": [
    "# Mean of last 10 prices\n",
    "\n",
    "oil_series.iloc[-10:].mean()"
   ]
  },
  {
   "cell_type": "code",
   "execution_count": 17,
   "id": "527e370d-3096-49a6-a1f4-454f8a84dc18",
   "metadata": {},
   "outputs": [
    {
     "data": {
      "text/plain": [
       "0    52.36\n",
       "1    53.26\n",
       "2    53.77\n",
       "3    53.98\n",
       "Name: oil_prices, dtype: float64"
      ]
     },
     "execution_count": 17,
     "metadata": {},
     "output_type": "execute_result"
    }
   ],
   "source": [
    "# Slice labels using loc, reset index and drop dates to return series w/ integer index\n",
    "\n",
    "oil_series.loc[\"2017-01-01\":\"2017-01-07\"].reset_index(drop=True)"
   ]
  },
  {
   "cell_type": "code",
   "execution_count": 18,
   "id": "e0b57663-c7d2-441d-82e6-9c8d01c8925a",
   "metadata": {},
   "outputs": [],
   "source": [
    "# Sorting and Filtering Series"
   ]
  },
  {
   "cell_type": "code",
   "execution_count": 19,
   "id": "14911ba1-4a3a-4743-9dd6-56e1b1dad4f5",
   "metadata": {},
   "outputs": [],
   "source": [
    "dates = [\n",
    "    \"2016-12-22\",\n",
    "    \"2017-05-03\",\n",
    "    \"2017-01-06\",\n",
    "    \"2017-03-05\",\n",
    "    \"2017-02-12\",\n",
    "    \"2017-03-21\",\n",
    "    \"2017-04-14\",\n",
    "    \"2017-04-15\",\n",
    "]"
   ]
  },
  {
   "cell_type": "code",
   "execution_count": 20,
   "id": "0a60283c-5d78-4074-9bea-94327674b64f",
   "metadata": {},
   "outputs": [
    {
     "data": {
      "text/plain": [
       "date\n",
       "2017-05-10    47.28\n",
       "2017-05-09    45.84\n",
       "2017-05-08    46.46\n",
       "2017-05-05    46.23\n",
       "2017-05-04    45.55\n",
       "2017-03-27    47.02\n",
       "2017-03-23    47.00\n",
       "2017-03-22    47.29\n",
       "2017-03-21    47.02\n",
       "2017-03-14    47.24\n",
       "Name: oil_prices, dtype: float64"
      ]
     },
     "execution_count": 20,
     "metadata": {},
     "output_type": "execute_result"
    }
   ],
   "source": [
    "# Get 10 lowest prices by grabbing first 10 rows of sorted price series\n",
    "# Then, sort by index in descending order\n",
    "\n",
    "oil_series.sort_values().iloc[:10].sort_index(ascending=False)"
   ]
  },
  {
   "cell_type": "code",
   "execution_count": 21,
   "id": "74894501-7c44-4c69-bd43-580dabdc4ca3",
   "metadata": {},
   "outputs": [
    {
     "data": {
      "text/plain": [
       "date\n",
       "2017-03-21    47.02\n",
       "2017-05-03    47.79\n",
       "Name: oil_prices, dtype: float64"
      ]
     },
     "execution_count": 21,
     "metadata": {},
     "output_type": "execute_result"
    }
   ],
   "source": [
    "# Create mask to filter to only dates in list of dates and oil price <= 50\n",
    "\n",
    "mask = oil_series.index.isin(dates) & (oil_series <= 50)\n",
    "\n",
    "oil_series.loc[mask]"
   ]
  },
  {
   "cell_type": "code",
   "execution_count": 22,
   "id": "c72cc5f3-de73-4ee7-b4b2-e19077f26be8",
   "metadata": {},
   "outputs": [],
   "source": [
    "# Series Operations"
   ]
  },
  {
   "cell_type": "code",
   "execution_count": 23,
   "id": "3b2b7472-9bdd-4e42-9f70-49a98dfd2e46",
   "metadata": {},
   "outputs": [
    {
     "data": {
      "text/plain": [
       "date\n",
       "2016-12-20    59.442\n",
       "2016-12-21    58.584\n",
       "2016-12-22    59.178\n",
       "2016-12-23    59.211\n",
       "2016-12-27    60.102\n",
       "               ...  \n",
       "2017-05-09    52.424\n",
       "2017-05-10    54.008\n",
       "2017-05-11    54.591\n",
       "2017-05-12    54.613\n",
       "2017-05-15    55.746\n",
       "Name: oil_prices, Length: 100, dtype: float64"
      ]
     },
     "execution_count": 23,
     "metadata": {},
     "output_type": "execute_result"
    }
   ],
   "source": [
    "# Multiple oil series values by 1.1 (10% increase), then add 2 to each row\n",
    "\n",
    "# with Pandas methods\n",
    "oil_series.mul(1.1).add(2)\n",
    "\n",
    "# with Python operators\n",
    "oil_series * 1.1 + 2"
   ]
  },
  {
   "cell_type": "code",
   "execution_count": 24,
   "id": "b09fde5e-2d9e-46b4-81cc-de32ae52ead3",
   "metadata": {},
   "outputs": [
    {
     "data": {
      "text/plain": [
       "54.48"
      ]
     },
     "execution_count": 24,
     "metadata": {},
     "output_type": "execute_result"
    }
   ],
   "source": [
    "# Get max price, store in variable\n",
    "\n",
    "max_price = oil_series.max()\n",
    "\n",
    "max_price"
   ]
  },
  {
   "cell_type": "code",
   "execution_count": 25,
   "id": "e5706ce4-ca65-4b25-8d89-2143427ea43b",
   "metadata": {},
   "outputs": [
    {
     "data": {
      "text/plain": [
       "date\n",
       "2016-12-20   -0.041483\n",
       "2016-12-21   -0.055800\n",
       "2016-12-22   -0.045888\n",
       "2016-12-23   -0.045338\n",
       "2016-12-27   -0.030470\n",
       "                ...   \n",
       "2017-05-09   -0.158590\n",
       "2017-05-10   -0.132159\n",
       "2017-05-11   -0.122430\n",
       "2017-05-12   -0.122063\n",
       "2017-05-15   -0.103157\n",
       "Name: oil_prices, Length: 100, dtype: float64"
      ]
     },
     "execution_count": 25,
     "metadata": {},
     "output_type": "execute_result"
    }
   ],
   "source": [
    "# Subtract max price from all rows in oil_series (returns a Series)\n",
    "(oil_series - max_price) / max_price"
   ]
  },
  {
   "cell_type": "code",
   "execution_count": 26,
   "id": "518676c3-7c0d-4631-93c9-c0605d14e10c",
   "metadata": {},
   "outputs": [],
   "source": [
    "# Create a series from the index of oil_series\n",
    "string_dates = pd.Series(oil_series.index)"
   ]
  },
  {
   "cell_type": "code",
   "execution_count": 27,
   "id": "19dde7e1-bc6e-4d49-abef-d9cb995aa381",
   "metadata": {},
   "outputs": [
    {
     "data": {
      "text/plain": [
       "0     12\n",
       "1     12\n",
       "2     12\n",
       "3     12\n",
       "4     12\n",
       "      ..\n",
       "95     5\n",
       "96     5\n",
       "97     5\n",
       "98     5\n",
       "99     5\n",
       "Name: date, Length: 100, dtype: int32"
      ]
     },
     "execution_count": 27,
     "metadata": {},
     "output_type": "execute_result"
    }
   ],
   "source": [
    "# Slice out month portion of text string and convert to int\n",
    "string_dates.str[5:7].astype(\"int\")"
   ]
  },
  {
   "cell_type": "code",
   "execution_count": 28,
   "id": "c026a422-b92d-4514-a891-7f607cb51cda",
   "metadata": {},
   "outputs": [
    {
     "data": {
      "text/plain": [
       "0     12\n",
       "1     12\n",
       "2     12\n",
       "3     12\n",
       "4     12\n",
       "      ..\n",
       "95     5\n",
       "96     5\n",
       "97     5\n",
       "98     5\n",
       "99     5\n",
       "Name: date, Length: 100, dtype: int32"
      ]
     },
     "execution_count": 28,
     "metadata": {},
     "output_type": "execute_result"
    }
   ],
   "source": [
    "# single line\n",
    "pd.Series(oil_series.index).str[5:7].astype(\"int\")"
   ]
  },
  {
   "cell_type": "code",
   "execution_count": 29,
   "id": "99fddb37-ad3e-403a-aece-12cf1b09a1f6",
   "metadata": {},
   "outputs": [],
   "source": [
    "# Series Aggregations"
   ]
  },
  {
   "cell_type": "code",
   "execution_count": 30,
   "id": "721a7fd6-025b-47c6-8a97-067c0b670ab9",
   "metadata": {},
   "outputs": [
    {
     "data": {
      "text/plain": [
       "1134.54"
      ]
     },
     "execution_count": 30,
     "metadata": {},
     "output_type": "execute_result"
    }
   ],
   "source": [
    "# Filter series to March (month 3), calculate sum of prices, and round\n",
    "\n",
    "oil_series[oil_series.index.str[6:7] == \"3\"].sum().round(2)"
   ]
  },
  {
   "cell_type": "code",
   "execution_count": 31,
   "id": "05077676-dcc4-475b-8f3d-0fbae82c4631",
   "metadata": {},
   "outputs": [
    {
     "data": {
      "text/plain": [
       "49.32782608695651"
      ]
     },
     "execution_count": 31,
     "metadata": {},
     "output_type": "execute_result"
    }
   ],
   "source": [
    "# Filter series to march, calculate mean\n",
    "\n",
    "oil_series[oil_series.index.str[6:7] == \"3\"].mean()"
   ]
  },
  {
   "cell_type": "code",
   "execution_count": 32,
   "id": "4d87ea7f-2a98-45b3-b990-dd9514c47678",
   "metadata": {},
   "outputs": [
    {
     "data": {
      "text/plain": [
       "39"
      ]
     },
     "execution_count": 32,
     "metadata": {},
     "output_type": "execute_result"
    }
   ],
   "source": [
    "# Filter series to Jan and Feb, count entries\n",
    "\n",
    "oil_series[oil_series.index.str[5:7].isin([\"01\", \"02\"])].count()"
   ]
  },
  {
   "cell_type": "code",
   "execution_count": 33,
   "id": "6ec62df2-ee76-4cd8-908f-7b5c9272ef59",
   "metadata": {},
   "outputs": [
    {
     "data": {
      "text/plain": [
       "0.1    47.299\n",
       "0.9    53.811\n",
       "Name: oil_prices, dtype: float64"
      ]
     },
     "execution_count": 33,
     "metadata": {},
     "output_type": "execute_result"
    }
   ],
   "source": [
    "# Calculate 10th and 90th percentiles of oil series using quantile\n",
    "\n",
    "oil_series.quantile([0.1, 0.9])"
   ]
  },
  {
   "cell_type": "code",
   "execution_count": 34,
   "id": "8255a6e6-eadf-4908-bcb7-3951afdc236c",
   "metadata": {},
   "outputs": [
    {
     "data": {
      "text/plain": [
       "53    0.26\n",
       "52    0.22\n",
       "47    0.13\n",
       "48    0.10\n",
       "51    0.07\n",
       "50    0.07\n",
       "49    0.06\n",
       "54    0.05\n",
       "45    0.02\n",
       "46    0.02\n",
       "Name: oil_prices, dtype: float64"
      ]
     },
     "execution_count": 34,
     "metadata": {},
     "output_type": "execute_result"
    }
   ],
   "source": [
    "# Return normalized value counts to get percentage of time each integer dollar value occurred\n",
    "\n",
    "oil_series.astype(\"int\").value_counts(normalize=True)"
   ]
  },
  {
   "cell_type": "code",
   "execution_count": 35,
   "id": "2676be08-5886-47be-9be0-ea6af187aa60",
   "metadata": {},
   "outputs": [],
   "source": [
    "# Assingment Missing Data"
   ]
  },
  {
   "cell_type": "code",
   "execution_count": 36,
   "id": "fc65802c-c7f6-4b58-95c4-155b0eb99ca1",
   "metadata": {},
   "outputs": [],
   "source": [
    "# Fill in two values with missing data\n",
    "oil_series = oil_series.where(~oil_series.isin([51.44, 47.83]), pd.NA)"
   ]
  },
  {
   "cell_type": "code",
   "execution_count": 37,
   "id": "c9c89356-3c0f-4675-a587-0958863f480b",
   "metadata": {},
   "outputs": [
    {
     "data": {
      "text/plain": [
       "2"
      ]
     },
     "execution_count": 37,
     "metadata": {},
     "output_type": "execute_result"
    }
   ],
   "source": [
    "# Sum/count missing values\n",
    "\n",
    "oil_series.isna().sum()"
   ]
  },
  {
   "cell_type": "code",
   "execution_count": 38,
   "id": "ad55514b-3f3f-48bf-b054-d28822898e08",
   "metadata": {},
   "outputs": [
    {
     "data": {
      "text/plain": [
       "date\n",
       "2016-12-20    52.220\n",
       "2016-12-21    52.205\n",
       "2016-12-22    51.980\n",
       "2016-12-23    52.010\n",
       "2016-12-27    52.820\n",
       "               ...  \n",
       "2017-05-09    45.840\n",
       "2017-05-10    47.280\n",
       "2017-05-11    47.810\n",
       "2017-05-12    52.205\n",
       "2017-05-15    48.860\n",
       "Name: oil_prices, Length: 100, dtype: float64"
      ]
     },
     "execution_count": 38,
     "metadata": {},
     "output_type": "execute_result"
    }
   ],
   "source": [
    "# Fill in missing values with median\n",
    "\n",
    "oil_series.fillna(oil_series.median())"
   ]
  },
  {
   "cell_type": "code",
   "execution_count": 39,
   "id": "55ef6478-02ef-443d-99eb-9d8a2d270b03",
   "metadata": {},
   "outputs": [],
   "source": [
    "# Diffrent Functions"
   ]
  },
  {
   "cell_type": "code",
   "execution_count": 40,
   "id": "51a10594-aeb1-4fa4-a758-0d3bf0916747",
   "metadata": {},
   "outputs": [],
   "source": [
    "# Define a function that returns 'Buy' if price below limit, 'Wait' if not.\n",
    "\n",
    "def buy_bool(price, limit):\n",
    "    if price < limit:\n",
    "        return \"Buy\"\n",
    "    return \"Wait\""
   ]
  },
  {
   "cell_type": "code",
   "execution_count": 41,
   "id": "a37364e0-3454-4106-a4fa-85b1f7f25366",
   "metadata": {},
   "outputs": [
    {
     "data": {
      "text/plain": [
       "date\n",
       "2016-12-20     Buy\n",
       "2016-12-21    Wait\n",
       "2016-12-22     Buy\n",
       "2016-12-23     Buy\n",
       "2016-12-27     Buy\n",
       "              ... \n",
       "2017-05-09     Buy\n",
       "2017-05-10     Buy\n",
       "2017-05-11     Buy\n",
       "2017-05-12    Wait\n",
       "2017-05-15     Buy\n",
       "Name: oil_prices, Length: 100, dtype: object"
      ]
     },
     "execution_count": 41,
     "metadata": {},
     "output_type": "execute_result"
    }
   ],
   "source": [
    "# Apply function to OIl Series, args = to specify arguments - make sure to pass a list or tuple to args\n",
    "\n",
    "oil_series.apply(buy_bool, args=(oil_series.quantile(0.9),))"
   ]
  },
  {
   "cell_type": "code",
   "execution_count": 42,
   "id": "d762cbf6-6cf6-48fe-9fd8-3f24514f80c5",
   "metadata": {},
   "outputs": [
    {
     "data": {
      "text/plain": [
       "date\n",
       "2016-12-20     Buy\n",
       "2016-12-21    Wait\n",
       "2016-12-22     Buy\n",
       "2016-12-23     Buy\n",
       "2016-12-27     Buy\n",
       "              ... \n",
       "2017-05-09     Buy\n",
       "2017-05-10     Buy\n",
       "2017-05-11     Buy\n",
       "2017-05-12    Wait\n",
       "2017-05-15     Buy\n",
       "Name: oil_prices, Length: 100, dtype: object"
      ]
     },
     "execution_count": 42,
     "metadata": {},
     "output_type": "execute_result"
    }
   ],
   "source": [
    "# Lambda function version of Wait/Buy\n",
    "\n",
    "oil_series.apply(lambda x: \"Buy\" if x < oil_series.quantile(0.9) else \"Wait\")"
   ]
  },
  {
   "cell_type": "code",
   "execution_count": 43,
   "id": "d50ea21b-bd02-46df-925c-c8fe625e7d3f",
   "metadata": {},
   "outputs": [
    {
     "data": {
      "text/plain": [
       "date\n",
       "2016-12-20    57.442\n",
       "2016-12-21       NaN\n",
       "2016-12-22    57.178\n",
       "2016-12-23    46.809\n",
       "2016-12-27    58.102\n",
       "               ...  \n",
       "2017-05-09    50.424\n",
       "2017-05-10    42.552\n",
       "2017-05-11    52.591\n",
       "2017-05-12       NaN\n",
       "2017-05-15    53.746\n",
       "Name: oil_prices, Length: 100, dtype: float64"
      ]
     },
     "execution_count": 43,
     "metadata": {},
     "output_type": "execute_result"
    }
   ],
   "source": [
    "# Chain Pandas where to specify complementary logic.\n",
    "# First where - if test returns FALSE (not one of these dates), multiply by 1.1\n",
    "# Second where - if inverted test returns FALSE (is one of these dates) multiply by .9\n",
    "\n",
    "(oil_series\n",
    " .where(oil_series.index.isin([\"2016-12-23\", \"2017-05-10\"]), oil_series * 1.1)\n",
    " .where(~oil_series.index.isin([\"2016-12-23\", \"2017-05-10\"]), oil_series * .9)\n",
    ")"
   ]
  },
  {
   "cell_type": "code",
   "execution_count": null,
   "id": "97df8728-1bec-45ba-90db-5e12a27b3a40",
   "metadata": {},
   "outputs": [],
   "source": []
  }
 ],
 "metadata": {
  "kernelspec": {
   "display_name": "Python 3 (ipykernel)",
   "language": "python",
   "name": "python3"
  },
  "language_info": {
   "codemirror_mode": {
    "name": "ipython",
    "version": 3
   },
   "file_extension": ".py",
   "mimetype": "text/x-python",
   "name": "python",
   "nbconvert_exporter": "python",
   "pygments_lexer": "ipython3",
   "version": "3.9.12"
  }
 },
 "nbformat": 4,
 "nbformat_minor": 5
}
